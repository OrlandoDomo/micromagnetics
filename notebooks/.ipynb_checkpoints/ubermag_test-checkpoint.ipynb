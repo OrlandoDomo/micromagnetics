{
 "cells": [
  {
   "cell_type": "code",
   "execution_count": null,
   "id": "5325b0de-1d29-40ea-a918-2e9299a70d72",
   "metadata": {},
   "outputs": [],
   "source": []
  },
  {
   "cell_type": "code",
   "execution_count": null,
   "id": "7219f799-72d6-4145-9e6d-e44bcf01439d",
   "metadata": {},
   "outputs": [],
   "source": []
  },
  {
   "cell_type": "code",
   "execution_count": null,
   "id": "992bf445-afa3-4976-8b5b-1aec8f04f077",
   "metadata": {},
   "outputs": [],
   "source": []
  },
  {
   "cell_type": "code",
   "execution_count": 1,
   "id": "0ac0eb8d-005d-47cb-8a80-16dd11ec9094",
   "metadata": {},
   "outputs": [],
   "source": [
    "import ubermag\n"
   ]
  }
 ],
 "metadata": {
  "kernelspec": {
   "display_name": "Python 3 (ipykernel)",
   "language": "python",
   "name": "python3"
  },
  "language_info": {
   "codemirror_mode": {
    "name": "ipython",
    "version": 3
   },
   "file_extension": ".py",
   "mimetype": "text/x-python",
   "name": "python",
   "nbconvert_exporter": "python",
   "pygments_lexer": "ipython3",
   "version": "3.11.11"
  }
 },
 "nbformat": 4,
 "nbformat_minor": 5
}
