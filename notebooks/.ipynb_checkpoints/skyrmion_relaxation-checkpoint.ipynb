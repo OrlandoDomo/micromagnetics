{
 "cells": [
  {
   "cell_type": "markdown",
   "id": "4f5b8063-5267-4b4c-aad2-5e4b840a6fe6",
   "metadata": {},
   "source": [
    "# Skyrmion simulation\n",
    "Lets simulate the relaxation of a Skyrmion"
   ]
  },
  {
   "cell_type": "code",
   "execution_count": 2,
   "id": "50377ecb-1a42-44fc-aa2b-82c75e5f0b2d",
   "metadata": {},
   "outputs": [
    {
     "data": {
      "text/plain": [
       "<mumax3c.mumax3.mumax3.ExeMumax3Runner at 0x23edfea5310>"
      ]
     },
     "execution_count": 2,
     "metadata": {},
     "output_type": "execute_result"
    }
   ],
   "source": [
    "import mumax3c\n",
    "mumax3c.runner.runner"
   ]
  },
  {
   "cell_type": "code",
   "execution_count": null,
   "id": "d1d8e0af-0446-4685-929c-d35edc82f78a",
   "metadata": {},
   "outputs": [],
   "source": []
  }
 ],
 "metadata": {
  "kernelspec": {
   "display_name": "Python 3 (ipykernel)",
   "language": "python",
   "name": "python3"
  },
  "language_info": {
   "codemirror_mode": {
    "name": "ipython",
    "version": 3
   },
   "file_extension": ".py",
   "mimetype": "text/x-python",
   "name": "python",
   "nbconvert_exporter": "python",
   "pygments_lexer": "ipython3",
   "version": "3.11.11"
  }
 },
 "nbformat": 4,
 "nbformat_minor": 5
}
